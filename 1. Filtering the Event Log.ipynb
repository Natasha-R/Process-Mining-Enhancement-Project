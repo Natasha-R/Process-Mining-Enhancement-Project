{
 "cells": [
  {
   "cell_type": "code",
   "execution_count": 31,
   "id": "a0559fab-b654-4ab6-b5d5-fa1bd57bdfe7",
   "metadata": {},
   "outputs": [],
   "source": [
    "import pandas as pd\n",
    "import pm4py"
   ]
  },
  {
   "cell_type": "markdown",
   "id": "f5dac885-2eba-4004-848d-7f31242dbe08",
   "metadata": {},
   "source": [
    "## Importing the data"
   ]
  },
  {
   "cell_type": "code",
   "execution_count": 32,
   "id": "7c135ef4-f7cd-4172-aa15-d372e55e92be",
   "metadata": {},
   "outputs": [],
   "source": [
    "data = pd.read_csv(\"event_logs/BPI_Challenge_2019_edited.csv\", sep=\";\", parse_dates=[\"event time:timestamp\"])"
   ]
  },
  {
   "cell_type": "code",
   "execution_count": 33,
   "id": "9cbf3eb7-83dd-4437-ba7f-28cae35c67a5",
   "metadata": {},
   "outputs": [
    {
     "data": {
      "text/html": [
       "<div>\n",
       "<style scoped>\n",
       "    .dataframe tbody tr th:only-of-type {\n",
       "        vertical-align: middle;\n",
       "    }\n",
       "\n",
       "    .dataframe tbody tr th {\n",
       "        vertical-align: top;\n",
       "    }\n",
       "\n",
       "    .dataframe thead th {\n",
       "        text-align: right;\n",
       "    }\n",
       "</style>\n",
       "<table border=\"1\" class=\"dataframe\">\n",
       "  <thead>\n",
       "    <tr style=\"text-align: right;\">\n",
       "      <th></th>\n",
       "      <th>eventID</th>\n",
       "      <th>case Spend area text</th>\n",
       "      <th>case Company</th>\n",
       "      <th>case Document Type</th>\n",
       "      <th>case Sub spend area text</th>\n",
       "      <th>case Purchasing Document</th>\n",
       "      <th>case Purch. Doc. Category name</th>\n",
       "      <th>case Vendor</th>\n",
       "      <th>case Item Type</th>\n",
       "      <th>case Item Category</th>\n",
       "      <th>...</th>\n",
       "      <th>case Name</th>\n",
       "      <th>case GR-Based Inv. Verif.</th>\n",
       "      <th>case Item</th>\n",
       "      <th>case concept:name</th>\n",
       "      <th>case Goods Receipt</th>\n",
       "      <th>event User</th>\n",
       "      <th>event org:resource</th>\n",
       "      <th>event concept:name</th>\n",
       "      <th>event Cumulative net worth (EUR)</th>\n",
       "      <th>event time:timestamp</th>\n",
       "    </tr>\n",
       "  </thead>\n",
       "  <tbody>\n",
       "    <tr>\n",
       "      <th>0</th>\n",
       "      <td>0</td>\n",
       "      <td>CAPEX &amp; SOCS</td>\n",
       "      <td>companyID_0000</td>\n",
       "      <td>EC Purchase order</td>\n",
       "      <td>Facility Management</td>\n",
       "      <td>2000000000</td>\n",
       "      <td>Purchase order</td>\n",
       "      <td>vendorID_0000</td>\n",
       "      <td>Standard</td>\n",
       "      <td>3-way match, invoice before GR</td>\n",
       "      <td>...</td>\n",
       "      <td>vendor_0000</td>\n",
       "      <td>False</td>\n",
       "      <td>1</td>\n",
       "      <td>2000000000_00001</td>\n",
       "      <td>True</td>\n",
       "      <td>batch_00</td>\n",
       "      <td>batch_00</td>\n",
       "      <td>SRM: Created</td>\n",
       "      <td>298.0</td>\n",
       "      <td>2018-02-01 13:53:00</td>\n",
       "    </tr>\n",
       "    <tr>\n",
       "      <th>1</th>\n",
       "      <td>6</td>\n",
       "      <td>CAPEX &amp; SOCS</td>\n",
       "      <td>companyID_0000</td>\n",
       "      <td>EC Purchase order</td>\n",
       "      <td>Facility Management</td>\n",
       "      <td>2000000000</td>\n",
       "      <td>Purchase order</td>\n",
       "      <td>vendorID_0000</td>\n",
       "      <td>Standard</td>\n",
       "      <td>3-way match, invoice before GR</td>\n",
       "      <td>...</td>\n",
       "      <td>vendor_0000</td>\n",
       "      <td>False</td>\n",
       "      <td>1</td>\n",
       "      <td>2000000000_00001</td>\n",
       "      <td>True</td>\n",
       "      <td>batch_00</td>\n",
       "      <td>batch_00</td>\n",
       "      <td>SRM: Change was Transmitted</td>\n",
       "      <td>298.0</td>\n",
       "      <td>2018-02-01 14:53:00</td>\n",
       "    </tr>\n",
       "    <tr>\n",
       "      <th>2</th>\n",
       "      <td>3</td>\n",
       "      <td>CAPEX &amp; SOCS</td>\n",
       "      <td>companyID_0000</td>\n",
       "      <td>EC Purchase order</td>\n",
       "      <td>Facility Management</td>\n",
       "      <td>2000000000</td>\n",
       "      <td>Purchase order</td>\n",
       "      <td>vendorID_0000</td>\n",
       "      <td>Standard</td>\n",
       "      <td>3-way match, invoice before GR</td>\n",
       "      <td>...</td>\n",
       "      <td>vendor_0000</td>\n",
       "      <td>False</td>\n",
       "      <td>1</td>\n",
       "      <td>2000000000_00001</td>\n",
       "      <td>True</td>\n",
       "      <td>batch_00</td>\n",
       "      <td>batch_00</td>\n",
       "      <td>SRM: Document Completed</td>\n",
       "      <td>298.0</td>\n",
       "      <td>2018-02-01 14:53:00</td>\n",
       "    </tr>\n",
       "    <tr>\n",
       "      <th>3</th>\n",
       "      <td>2</td>\n",
       "      <td>CAPEX &amp; SOCS</td>\n",
       "      <td>companyID_0000</td>\n",
       "      <td>EC Purchase order</td>\n",
       "      <td>Facility Management</td>\n",
       "      <td>2000000000</td>\n",
       "      <td>Purchase order</td>\n",
       "      <td>vendorID_0000</td>\n",
       "      <td>Standard</td>\n",
       "      <td>3-way match, invoice before GR</td>\n",
       "      <td>...</td>\n",
       "      <td>vendor_0000</td>\n",
       "      <td>False</td>\n",
       "      <td>1</td>\n",
       "      <td>2000000000_00001</td>\n",
       "      <td>True</td>\n",
       "      <td>batch_00</td>\n",
       "      <td>batch_00</td>\n",
       "      <td>SRM: Awaiting Approval</td>\n",
       "      <td>298.0</td>\n",
       "      <td>2018-02-01 14:53:00</td>\n",
       "    </tr>\n",
       "    <tr>\n",
       "      <th>4</th>\n",
       "      <td>1</td>\n",
       "      <td>CAPEX &amp; SOCS</td>\n",
       "      <td>companyID_0000</td>\n",
       "      <td>EC Purchase order</td>\n",
       "      <td>Facility Management</td>\n",
       "      <td>2000000000</td>\n",
       "      <td>Purchase order</td>\n",
       "      <td>vendorID_0000</td>\n",
       "      <td>Standard</td>\n",
       "      <td>3-way match, invoice before GR</td>\n",
       "      <td>...</td>\n",
       "      <td>vendor_0000</td>\n",
       "      <td>False</td>\n",
       "      <td>1</td>\n",
       "      <td>2000000000_00001</td>\n",
       "      <td>True</td>\n",
       "      <td>batch_00</td>\n",
       "      <td>batch_00</td>\n",
       "      <td>SRM: Complete</td>\n",
       "      <td>298.0</td>\n",
       "      <td>2018-02-01 14:53:00</td>\n",
       "    </tr>\n",
       "  </tbody>\n",
       "</table>\n",
       "<p>5 rows × 22 columns</p>\n",
       "</div>"
      ],
      "text/plain": [
       "   eventID  case Spend area text    case Company case Document Type  \\\n",
       "0         0         CAPEX & SOCS  companyID_0000  EC Purchase order   \n",
       "1         6         CAPEX & SOCS  companyID_0000  EC Purchase order   \n",
       "2         3         CAPEX & SOCS  companyID_0000  EC Purchase order   \n",
       "3         2         CAPEX & SOCS  companyID_0000  EC Purchase order   \n",
       "4         1         CAPEX & SOCS  companyID_0000  EC Purchase order   \n",
       "\n",
       "  case Sub spend area text  case Purchasing Document  \\\n",
       "0      Facility Management                2000000000   \n",
       "1      Facility Management                2000000000   \n",
       "2      Facility Management                2000000000   \n",
       "3      Facility Management                2000000000   \n",
       "4      Facility Management                2000000000   \n",
       "\n",
       "  case Purch. Doc. Category name    case Vendor case Item Type  \\\n",
       "0                 Purchase order  vendorID_0000       Standard   \n",
       "1                 Purchase order  vendorID_0000       Standard   \n",
       "2                 Purchase order  vendorID_0000       Standard   \n",
       "3                 Purchase order  vendorID_0000       Standard   \n",
       "4                 Purchase order  vendorID_0000       Standard   \n",
       "\n",
       "               case Item Category  ...    case Name case GR-Based Inv. Verif.  \\\n",
       "0  3-way match, invoice before GR  ...  vendor_0000                     False   \n",
       "1  3-way match, invoice before GR  ...  vendor_0000                     False   \n",
       "2  3-way match, invoice before GR  ...  vendor_0000                     False   \n",
       "3  3-way match, invoice before GR  ...  vendor_0000                     False   \n",
       "4  3-way match, invoice before GR  ...  vendor_0000                     False   \n",
       "\n",
       "  case Item  case concept:name  case Goods Receipt event User  \\\n",
       "0         1   2000000000_00001                True   batch_00   \n",
       "1         1   2000000000_00001                True   batch_00   \n",
       "2         1   2000000000_00001                True   batch_00   \n",
       "3         1   2000000000_00001                True   batch_00   \n",
       "4         1   2000000000_00001                True   batch_00   \n",
       "\n",
       "   event org:resource           event concept:name  \\\n",
       "0            batch_00                 SRM: Created   \n",
       "1            batch_00  SRM: Change was Transmitted   \n",
       "2            batch_00      SRM: Document Completed   \n",
       "3            batch_00       SRM: Awaiting Approval   \n",
       "4            batch_00                SRM: Complete   \n",
       "\n",
       "  event Cumulative net worth (EUR) event time:timestamp  \n",
       "0                            298.0  2018-02-01 13:53:00  \n",
       "1                            298.0  2018-02-01 14:53:00  \n",
       "2                            298.0  2018-02-01 14:53:00  \n",
       "3                            298.0  2018-02-01 14:53:00  \n",
       "4                            298.0  2018-02-01 14:53:00  \n",
       "\n",
       "[5 rows x 22 columns]"
      ]
     },
     "execution_count": 33,
     "metadata": {},
     "output_type": "execute_result"
    }
   ],
   "source": [
    "data.head()"
   ]
  },
  {
   "cell_type": "markdown",
   "id": "833e37d5-4b79-4e4a-94f7-f90ceee4f1dc",
   "metadata": {},
   "source": [
    "## Looking at contents of columns in the original event log"
   ]
  },
  {
   "cell_type": "markdown",
   "id": "87f88d46-763b-44e1-a331-4dd151f20428",
   "metadata": {},
   "source": [
    "There are many unnecessary features that contain very little information."
   ]
  },
  {
   "cell_type": "code",
   "execution_count": 34,
   "id": "3765f664-9a97-4b16-9040-eda6c9df7b5f",
   "metadata": {},
   "outputs": [
    {
     "data": {
      "text/plain": [
       "companyID_0000    997358\n",
       "companyID_0003      2617\n",
       "companyID_0001         7\n",
       "Name: case Company, dtype: int64"
      ]
     },
     "execution_count": 34,
     "metadata": {},
     "output_type": "execute_result"
    }
   ],
   "source": [
    "data['case Company'].value_counts()"
   ]
  },
  {
   "cell_type": "code",
   "execution_count": 35,
   "id": "8ac2774b-b236-4674-a50b-e12f1eca119e",
   "metadata": {},
   "outputs": [
    {
     "data": {
      "text/html": [
       "<div>\n",
       "<style scoped>\n",
       "    .dataframe tbody tr th:only-of-type {\n",
       "        vertical-align: middle;\n",
       "    }\n",
       "\n",
       "    .dataframe tbody tr th {\n",
       "        vertical-align: top;\n",
       "    }\n",
       "\n",
       "    .dataframe thead th {\n",
       "        text-align: right;\n",
       "    }\n",
       "</style>\n",
       "<table border=\"1\" class=\"dataframe\">\n",
       "  <thead>\n",
       "    <tr style=\"text-align: right;\">\n",
       "      <th>case Document Type</th>\n",
       "      <th>EC Purchase order</th>\n",
       "      <th>Framework order</th>\n",
       "      <th>Standard PO</th>\n",
       "    </tr>\n",
       "    <tr>\n",
       "      <th>case Company</th>\n",
       "      <th></th>\n",
       "      <th></th>\n",
       "      <th></th>\n",
       "    </tr>\n",
       "  </thead>\n",
       "  <tbody>\n",
       "    <tr>\n",
       "      <th>companyID_0000</th>\n",
       "      <td>14309</td>\n",
       "      <td>16271</td>\n",
       "      <td>966778</td>\n",
       "    </tr>\n",
       "    <tr>\n",
       "      <th>companyID_0001</th>\n",
       "      <td>0</td>\n",
       "      <td>0</td>\n",
       "      <td>7</td>\n",
       "    </tr>\n",
       "    <tr>\n",
       "      <th>companyID_0003</th>\n",
       "      <td>0</td>\n",
       "      <td>2617</td>\n",
       "      <td>0</td>\n",
       "    </tr>\n",
       "  </tbody>\n",
       "</table>\n",
       "</div>"
      ],
      "text/plain": [
       "case Document Type  EC Purchase order  Framework order  Standard PO\n",
       "case Company                                                       \n",
       "companyID_0000                  14309            16271       966778\n",
       "companyID_0001                      0                0            7\n",
       "companyID_0003                      0             2617            0"
      ]
     },
     "execution_count": 35,
     "metadata": {},
     "output_type": "execute_result"
    }
   ],
   "source": [
    "pd.crosstab(data['case Company'], data['case Document Type'])"
   ]
  },
  {
   "cell_type": "code",
   "execution_count": 36,
   "id": "b7ae35c8-eb86-465d-b214-304c99c8d3a0",
   "metadata": {},
   "outputs": [
    {
     "data": {
      "text/plain": [
       "3-way match, invoice before GR    758324\n",
       "3-way match, invoice after GR     216177\n",
       "Consignment                        22864\n",
       "2-way match                         2617\n",
       "Name: case Item Category, dtype: int64"
      ]
     },
     "execution_count": 36,
     "metadata": {},
     "output_type": "execute_result"
    }
   ],
   "source": [
    "data[\"case Item Category\"].value_counts()"
   ]
  },
  {
   "cell_type": "markdown",
   "id": "51023b9c-2e2f-4e0d-8ecf-f5afb62e7fd8",
   "metadata": {},
   "source": [
    "The very first time stamp included in the event log is in 1948. This is a mistake."
   ]
  },
  {
   "cell_type": "code",
   "execution_count": 37,
   "id": "5e3b54d0-d00a-4781-897a-f2b5ca00a193",
   "metadata": {},
   "outputs": [
    {
     "data": {
      "text/plain": [
       "Timestamp('1948-01-26 23:59:00')"
      ]
     },
     "execution_count": 37,
     "metadata": {},
     "output_type": "execute_result"
    }
   ],
   "source": [
    "data[\"event time:timestamp\"].min()"
   ]
  },
  {
   "cell_type": "code",
   "execution_count": 38,
   "id": "4ee06e69-2b82-4cd1-aa48-de907c651992",
   "metadata": {},
   "outputs": [
    {
     "data": {
      "text/plain": [
       "Timestamp('2018-12-08 23:59:00')"
      ]
     },
     "execution_count": 38,
     "metadata": {},
     "output_type": "execute_result"
    }
   ],
   "source": [
    "data[\"event time:timestamp\"].max()"
   ]
  },
  {
   "cell_type": "code",
   "execution_count": 39,
   "id": "7fa02611-084a-4553-b0bd-d10511bd6ed6",
   "metadata": {
    "tags": []
   },
   "outputs": [
    {
     "data": {
      "text/plain": [
       "318"
      ]
     },
     "execution_count": 39,
     "metadata": {},
     "output_type": "execute_result"
    }
   ],
   "source": [
    "len(data[data[\"event time:timestamp\"]<\"2018-01-01\"].sort_values(\"event time:timestamp\"))"
   ]
  },
  {
   "cell_type": "code",
   "execution_count": 40,
   "id": "d3c1c0ef-af28-42c2-84ef-43fbdb11b4e2",
   "metadata": {},
   "outputs": [
    {
     "data": {
      "text/plain": [
       "eventID                             318\n",
       "case Spend area text                 13\n",
       "case Company                          2\n",
       "case Document Type                    3\n",
       "case Sub spend area text             38\n",
       "case Purchasing Document             97\n",
       "case Purch. Doc. Category name        1\n",
       "case Vendor                          81\n",
       "case Item Type                        5\n",
       "case Item Category                    4\n",
       "case Spend classification text        3\n",
       "case Source                           1\n",
       "case Name                            80\n",
       "case GR-Based Inv. Verif.             2\n",
       "case Item                            76\n",
       "case concept:name                   264\n",
       "case Goods Receipt                    2\n",
       "event User                            4\n",
       "event org:resource                    4\n",
       "event concept:name                    3\n",
       "event Cumulative net worth (EUR)    190\n",
       "event time:timestamp                 93\n",
       "dtype: int64"
      ]
     },
     "execution_count": 40,
     "metadata": {},
     "output_type": "execute_result"
    }
   ],
   "source": [
    "data[data[\"event time:timestamp\"]<\"2018-01-01\"].nunique()"
   ]
  },
  {
   "cell_type": "markdown",
   "id": "f8efda84-d5b0-4086-8db8-bdbba9f81b05",
   "metadata": {},
   "source": [
    "## Filtering the data, removing and renaming columns"
   ]
  },
  {
   "cell_type": "code",
   "execution_count": 41,
   "id": "7644273a-ea42-454d-a8a0-3a6d28712229",
   "metadata": {},
   "outputs": [],
   "source": [
    "# only sub-process \"3-way match, invoice before GR\"\n",
    "data_filtered = data[data[\"case Item Category\"]==\"3-way match, invoice before GR\"]\n",
    "data_filtered = data_filtered[data_filtered['case Document Type']==\"Standard PO\"]\n",
    "data_filtered = data_filtered[data_filtered['case Item Type']==\"Standard\"]"
   ]
  },
  {
   "cell_type": "code",
   "execution_count": 42,
   "id": "3577a4b3-1df5-4e32-8cb0-e0cc8930ce07",
   "metadata": {},
   "outputs": [],
   "source": [
    "# only useful columns\n",
    "data_filtered = data_filtered[[\"case concept:name\", \"case Purchasing Document\", \"eventID \", \"event concept:name\", \"event time:timestamp\", \"event org:resource\",\n",
    "               \"event Cumulative net worth (EUR)\", \"case Vendor\", \"case Spend classification text\", \"case Spend area text\", \"case Sub spend area text\"]]"
   ]
  },
  {
   "cell_type": "code",
   "execution_count": 43,
   "id": "b9b9cf15-5dea-486c-890f-5d2769c09b7b",
   "metadata": {},
   "outputs": [],
   "source": [
    "# renaming the columns\n",
    "data_filtered.columns=[\"case_id\", \"case_PO_id\", \"event_id\", \"event_name\", \"event_timestamp\", \"event_resource\", \"event_value_EUR\", \n",
    "                       \"case_vendor\", \"case_PR_NPR\", \"case_product_type\", \"case_product_specific\"]"
   ]
  },
  {
   "cell_type": "code",
   "execution_count": 44,
   "id": "123f50d2-71af-42ec-9397-ace71cdd26b6",
   "metadata": {},
   "outputs": [],
   "source": [
    "# removing all cases occurring before 2018\n",
    "data_filtered = data_filtered[data_filtered[\"event_timestamp\"]>\"2018-01-01\"]"
   ]
  },
  {
   "cell_type": "code",
   "execution_count": 45,
   "id": "7620f0c5-23dd-48d1-b9f1-250775fc79f1",
   "metadata": {},
   "outputs": [],
   "source": [
    "data_filtered = data_filtered.reset_index(drop=True)"
   ]
  },
  {
   "cell_type": "code",
   "execution_count": 46,
   "id": "80ac4e3b-cb60-4dd1-9c6a-98e84fc66a9f",
   "metadata": {},
   "outputs": [
    {
     "data": {
      "text/html": [
       "<div>\n",
       "<style scoped>\n",
       "    .dataframe tbody tr th:only-of-type {\n",
       "        vertical-align: middle;\n",
       "    }\n",
       "\n",
       "    .dataframe tbody tr th {\n",
       "        vertical-align: top;\n",
       "    }\n",
       "\n",
       "    .dataframe thead th {\n",
       "        text-align: right;\n",
       "    }\n",
       "</style>\n",
       "<table border=\"1\" class=\"dataframe\">\n",
       "  <thead>\n",
       "    <tr style=\"text-align: right;\">\n",
       "      <th></th>\n",
       "      <th>case_id</th>\n",
       "      <th>case_PO_id</th>\n",
       "      <th>event_id</th>\n",
       "      <th>event_name</th>\n",
       "      <th>event_timestamp</th>\n",
       "      <th>event_resource</th>\n",
       "      <th>event_value_EUR</th>\n",
       "      <th>case_vendor</th>\n",
       "      <th>case_PR_NPR</th>\n",
       "      <th>case_product_type</th>\n",
       "      <th>case_product_specific</th>\n",
       "    </tr>\n",
       "  </thead>\n",
       "  <tbody>\n",
       "    <tr>\n",
       "      <th>0</th>\n",
       "      <td>4507000221_00010</td>\n",
       "      <td>4507000221</td>\n",
       "      <td>1430224109568</td>\n",
       "      <td>Create Purchase Order Item</td>\n",
       "      <td>2018-01-01 03:42:00</td>\n",
       "      <td>batch_03</td>\n",
       "      <td>208.0</td>\n",
       "      <td>vendorID_0103</td>\n",
       "      <td>PR</td>\n",
       "      <td>Packaging</td>\n",
       "      <td>Labels</td>\n",
       "    </tr>\n",
       "    <tr>\n",
       "      <th>1</th>\n",
       "      <td>4507000221_00010</td>\n",
       "      <td>4507000221</td>\n",
       "      <td>1430224109569</td>\n",
       "      <td>Receive Order Confirmation</td>\n",
       "      <td>2018-02-01 11:04:00</td>\n",
       "      <td>user_029</td>\n",
       "      <td>208.0</td>\n",
       "      <td>vendorID_0103</td>\n",
       "      <td>PR</td>\n",
       "      <td>Packaging</td>\n",
       "      <td>Labels</td>\n",
       "    </tr>\n",
       "    <tr>\n",
       "      <th>2</th>\n",
       "      <td>4507000221_00010</td>\n",
       "      <td>4507000221</td>\n",
       "      <td>1430224109570</td>\n",
       "      <td>Record Goods Receipt</td>\n",
       "      <td>2018-05-01 13:36:00</td>\n",
       "      <td>user_030</td>\n",
       "      <td>208.0</td>\n",
       "      <td>vendorID_0103</td>\n",
       "      <td>PR</td>\n",
       "      <td>Packaging</td>\n",
       "      <td>Labels</td>\n",
       "    </tr>\n",
       "    <tr>\n",
       "      <th>3</th>\n",
       "      <td>4507000221_00010</td>\n",
       "      <td>4507000221</td>\n",
       "      <td>1430224109571</td>\n",
       "      <td>Record Invoice Receipt</td>\n",
       "      <td>2018-05-01 17:35:00</td>\n",
       "      <td>user_024</td>\n",
       "      <td>208.0</td>\n",
       "      <td>vendorID_0103</td>\n",
       "      <td>PR</td>\n",
       "      <td>Packaging</td>\n",
       "      <td>Labels</td>\n",
       "    </tr>\n",
       "    <tr>\n",
       "      <th>4</th>\n",
       "      <td>4507000221_00010</td>\n",
       "      <td>4507000221</td>\n",
       "      <td>1430224109572</td>\n",
       "      <td>Vendor creates invoice</td>\n",
       "      <td>2018-05-01 23:59:00</td>\n",
       "      <td>NONE</td>\n",
       "      <td>208.0</td>\n",
       "      <td>vendorID_0103</td>\n",
       "      <td>PR</td>\n",
       "      <td>Packaging</td>\n",
       "      <td>Labels</td>\n",
       "    </tr>\n",
       "    <tr>\n",
       "      <th>...</th>\n",
       "      <td>...</td>\n",
       "      <td>...</td>\n",
       "      <td>...</td>\n",
       "      <td>...</td>\n",
       "      <td>...</td>\n",
       "      <td>...</td>\n",
       "      <td>...</td>\n",
       "      <td>...</td>\n",
       "      <td>...</td>\n",
       "      <td>...</td>\n",
       "      <td>...</td>\n",
       "    </tr>\n",
       "    <tr>\n",
       "      <th>721256</th>\n",
       "      <td>4508070768_00010</td>\n",
       "      <td>4508070768</td>\n",
       "      <td>1001285725716480</td>\n",
       "      <td>Vendor creates invoice</td>\n",
       "      <td>2018-08-23 23:59:00</td>\n",
       "      <td>NONE</td>\n",
       "      <td>5415.0</td>\n",
       "      <td>vendorID_0267</td>\n",
       "      <td>PR</td>\n",
       "      <td>Latex &amp; Monomers</td>\n",
       "      <td>Styrene Acrylics</td>\n",
       "    </tr>\n",
       "    <tr>\n",
       "      <th>721257</th>\n",
       "      <td>4508072736_00010</td>\n",
       "      <td>4508072736</td>\n",
       "      <td>1029847258234880</td>\n",
       "      <td>Vendor creates invoice</td>\n",
       "      <td>2018-12-03 23:59:00</td>\n",
       "      <td>NONE</td>\n",
       "      <td>866.0</td>\n",
       "      <td>vendorID_0259</td>\n",
       "      <td>OTHER</td>\n",
       "      <td>Others</td>\n",
       "      <td>Raw Material</td>\n",
       "    </tr>\n",
       "    <tr>\n",
       "      <th>721258</th>\n",
       "      <td>4508072736_00020</td>\n",
       "      <td>4508072736</td>\n",
       "      <td>1029851553202176</td>\n",
       "      <td>Vendor creates invoice</td>\n",
       "      <td>2018-07-17 23:59:00</td>\n",
       "      <td>NONE</td>\n",
       "      <td>606.0</td>\n",
       "      <td>vendorID_0259</td>\n",
       "      <td>OTHER</td>\n",
       "      <td>Others</td>\n",
       "      <td>Raw Material</td>\n",
       "    </tr>\n",
       "    <tr>\n",
       "      <th>721259</th>\n",
       "      <td>4508075167_00010</td>\n",
       "      <td>4508075167</td>\n",
       "      <td>1066019472801792</td>\n",
       "      <td>Vendor creates invoice</td>\n",
       "      <td>2018-06-14 23:59:00</td>\n",
       "      <td>NONE</td>\n",
       "      <td>797.0</td>\n",
       "      <td>vendorID_0314</td>\n",
       "      <td>OTHER</td>\n",
       "      <td>Others</td>\n",
       "      <td>Raw Material</td>\n",
       "    </tr>\n",
       "    <tr>\n",
       "      <th>721260</th>\n",
       "      <td>4508075178_00010</td>\n",
       "      <td>4508075178</td>\n",
       "      <td>1066122552016896</td>\n",
       "      <td>Vendor creates invoice</td>\n",
       "      <td>2018-06-27 23:59:00</td>\n",
       "      <td>NONE</td>\n",
       "      <td>344.0</td>\n",
       "      <td>vendorID_0314</td>\n",
       "      <td>OTHER</td>\n",
       "      <td>Others</td>\n",
       "      <td>Raw Material</td>\n",
       "    </tr>\n",
       "  </tbody>\n",
       "</table>\n",
       "<p>721261 rows × 11 columns</p>\n",
       "</div>"
      ],
      "text/plain": [
       "                 case_id  case_PO_id          event_id  \\\n",
       "0       4507000221_00010  4507000221     1430224109568   \n",
       "1       4507000221_00010  4507000221     1430224109569   \n",
       "2       4507000221_00010  4507000221     1430224109570   \n",
       "3       4507000221_00010  4507000221     1430224109571   \n",
       "4       4507000221_00010  4507000221     1430224109572   \n",
       "...                  ...         ...               ...   \n",
       "721256  4508070768_00010  4508070768  1001285725716480   \n",
       "721257  4508072736_00010  4508072736  1029847258234880   \n",
       "721258  4508072736_00020  4508072736  1029851553202176   \n",
       "721259  4508075167_00010  4508075167  1066019472801792   \n",
       "721260  4508075178_00010  4508075178  1066122552016896   \n",
       "\n",
       "                        event_name     event_timestamp event_resource  \\\n",
       "0       Create Purchase Order Item 2018-01-01 03:42:00       batch_03   \n",
       "1       Receive Order Confirmation 2018-02-01 11:04:00       user_029   \n",
       "2             Record Goods Receipt 2018-05-01 13:36:00       user_030   \n",
       "3           Record Invoice Receipt 2018-05-01 17:35:00       user_024   \n",
       "4           Vendor creates invoice 2018-05-01 23:59:00           NONE   \n",
       "...                            ...                 ...            ...   \n",
       "721256      Vendor creates invoice 2018-08-23 23:59:00           NONE   \n",
       "721257      Vendor creates invoice 2018-12-03 23:59:00           NONE   \n",
       "721258      Vendor creates invoice 2018-07-17 23:59:00           NONE   \n",
       "721259      Vendor creates invoice 2018-06-14 23:59:00           NONE   \n",
       "721260      Vendor creates invoice 2018-06-27 23:59:00           NONE   \n",
       "\n",
       "        event_value_EUR    case_vendor case_PR_NPR case_product_type  \\\n",
       "0                 208.0  vendorID_0103          PR         Packaging   \n",
       "1                 208.0  vendorID_0103          PR         Packaging   \n",
       "2                 208.0  vendorID_0103          PR         Packaging   \n",
       "3                 208.0  vendorID_0103          PR         Packaging   \n",
       "4                 208.0  vendorID_0103          PR         Packaging   \n",
       "...                 ...            ...         ...               ...   \n",
       "721256           5415.0  vendorID_0267          PR  Latex & Monomers   \n",
       "721257            866.0  vendorID_0259       OTHER            Others   \n",
       "721258            606.0  vendorID_0259       OTHER            Others   \n",
       "721259            797.0  vendorID_0314       OTHER            Others   \n",
       "721260            344.0  vendorID_0314       OTHER            Others   \n",
       "\n",
       "       case_product_specific  \n",
       "0                     Labels  \n",
       "1                     Labels  \n",
       "2                     Labels  \n",
       "3                     Labels  \n",
       "4                     Labels  \n",
       "...                      ...  \n",
       "721256      Styrene Acrylics  \n",
       "721257          Raw Material  \n",
       "721258          Raw Material  \n",
       "721259          Raw Material  \n",
       "721260          Raw Material  \n",
       "\n",
       "[721261 rows x 11 columns]"
      ]
     },
     "execution_count": 46,
     "metadata": {},
     "output_type": "execute_result"
    }
   ],
   "source": [
    "data_filtered"
   ]
  },
  {
   "cell_type": "raw",
   "id": "1ec65532-6ed5-48df-895a-963fe3201ea0",
   "metadata": {},
   "source": [
    "data_filtered.to_csv(\"event_logs/filtered_event_log.csv\", index=False, sep=\";\", encoding=\"utf-8\")"
   ]
  },
  {
   "cell_type": "markdown",
   "id": "fc71e737-c67d-47d6-b32d-96724e463afc",
   "metadata": {},
   "source": [
    "## Importing the case complete filtered log from ProM to save as .csv"
   ]
  },
  {
   "cell_type": "markdown",
   "id": "7caf1e41-c884-4533-ac3d-ff53f3bed85f",
   "metadata": {},
   "source": [
    "The filtered event log was then filtered further in ProM, in order to select only cases that have been completed (ending on either \"clear invoice\" or \"delete purchase order\").\n",
    "\n",
    "A second dataset was also created, selecting only completed cases that ended on \"clear invoice\"."
   ]
  },
  {
   "cell_type": "code",
   "execution_count": 47,
   "id": "cdd0fbad-f996-40c7-88dc-7b92e7da3091",
   "metadata": {},
   "outputs": [
    {
     "data": {
      "application/vnd.jupyter.widget-view+json": {
       "model_id": "7b00250ce80548e289035b0483ebcc29",
       "version_major": 2,
       "version_minor": 0
      },
      "text/plain": [
       "parsing log, completed traces ::   0%|          | 0/29941 [00:00<?, ?it/s]"
      ]
     },
     "metadata": {},
     "output_type": "display_data"
    }
   ],
   "source": [
    "log = pm4py.read_xes('event_logs/filtered_event_log_complete.xes')\n",
    "complete_cases = pm4py.convert_to_dataframe(log)"
   ]
  },
  {
   "cell_type": "code",
   "execution_count": 48,
   "id": "d2289c06-6651-45cb-80dd-6c2d1203f74f",
   "metadata": {},
   "outputs": [
    {
     "data": {
      "text/html": [
       "<div>\n",
       "<style scoped>\n",
       "    .dataframe tbody tr th:only-of-type {\n",
       "        vertical-align: middle;\n",
       "    }\n",
       "\n",
       "    .dataframe tbody tr th {\n",
       "        vertical-align: top;\n",
       "    }\n",
       "\n",
       "    .dataframe thead th {\n",
       "        text-align: right;\n",
       "    }\n",
       "</style>\n",
       "<table border=\"1\" class=\"dataframe\">\n",
       "  <thead>\n",
       "    <tr style=\"text-align: right;\">\n",
       "      <th></th>\n",
       "      <th>event_id</th>\n",
       "      <th>concept:name</th>\n",
       "      <th>case_PO_id</th>\n",
       "      <th>case_product_type</th>\n",
       "      <th>case_product_specific</th>\n",
       "      <th>event_value_EUR</th>\n",
       "      <th>event_resource</th>\n",
       "      <th>lifecycle:transition</th>\n",
       "      <th>time:timestamp</th>\n",
       "      <th>case_vendor</th>\n",
       "      <th>case_PR_NPR</th>\n",
       "      <th>case:concept:name</th>\n",
       "    </tr>\n",
       "  </thead>\n",
       "  <tbody>\n",
       "    <tr>\n",
       "      <th>0</th>\n",
       "      <td>2280627634176</td>\n",
       "      <td>Create Purchase Order Item</td>\n",
       "      <td>4507000266</td>\n",
       "      <td>Packaging</td>\n",
       "      <td>Labels</td>\n",
       "      <td>134.0</td>\n",
       "      <td>user_054</td>\n",
       "      <td>start</td>\n",
       "      <td>2018-02-01 08:53:00+00:00</td>\n",
       "      <td>vendorID_0103</td>\n",
       "      <td>PR</td>\n",
       "      <td>4507000266_00010</td>\n",
       "    </tr>\n",
       "    <tr>\n",
       "      <th>1</th>\n",
       "      <td>2280627634177</td>\n",
       "      <td>Receive Order Confirmation</td>\n",
       "      <td>4507000266</td>\n",
       "      <td>Packaging</td>\n",
       "      <td>Labels</td>\n",
       "      <td>134.0</td>\n",
       "      <td>user_029</td>\n",
       "      <td>start</td>\n",
       "      <td>2018-02-01 10:04:00+00:00</td>\n",
       "      <td>vendorID_0103</td>\n",
       "      <td>PR</td>\n",
       "      <td>4507000266_00010</td>\n",
       "    </tr>\n",
       "    <tr>\n",
       "      <th>2</th>\n",
       "      <td>2280627634178</td>\n",
       "      <td>Record Goods Receipt</td>\n",
       "      <td>4507000266</td>\n",
       "      <td>Packaging</td>\n",
       "      <td>Labels</td>\n",
       "      <td>134.0</td>\n",
       "      <td>user_055</td>\n",
       "      <td>start</td>\n",
       "      <td>2018-03-01 09:20:00+00:00</td>\n",
       "      <td>vendorID_0103</td>\n",
       "      <td>PR</td>\n",
       "      <td>4507000266_00010</td>\n",
       "    </tr>\n",
       "    <tr>\n",
       "      <th>3</th>\n",
       "      <td>2280627634179</td>\n",
       "      <td>Vendor creates invoice</td>\n",
       "      <td>4507000266</td>\n",
       "      <td>Packaging</td>\n",
       "      <td>Labels</td>\n",
       "      <td>134.0</td>\n",
       "      <td>NONE</td>\n",
       "      <td>start</td>\n",
       "      <td>2018-03-01 22:59:00+00:00</td>\n",
       "      <td>vendorID_0103</td>\n",
       "      <td>PR</td>\n",
       "      <td>4507000266_00010</td>\n",
       "    </tr>\n",
       "    <tr>\n",
       "      <th>4</th>\n",
       "      <td>2280627634180</td>\n",
       "      <td>Record Invoice Receipt</td>\n",
       "      <td>4507000266</td>\n",
       "      <td>Packaging</td>\n",
       "      <td>Labels</td>\n",
       "      <td>134.0</td>\n",
       "      <td>user_012</td>\n",
       "      <td>start</td>\n",
       "      <td>2018-04-01 13:15:00+00:00</td>\n",
       "      <td>vendorID_0103</td>\n",
       "      <td>PR</td>\n",
       "      <td>4507000266_00010</td>\n",
       "    </tr>\n",
       "  </tbody>\n",
       "</table>\n",
       "</div>"
      ],
      "text/plain": [
       "        event_id                concept:name  case_PO_id case_product_type  \\\n",
       "0  2280627634176  Create Purchase Order Item  4507000266         Packaging   \n",
       "1  2280627634177  Receive Order Confirmation  4507000266         Packaging   \n",
       "2  2280627634178        Record Goods Receipt  4507000266         Packaging   \n",
       "3  2280627634179      Vendor creates invoice  4507000266         Packaging   \n",
       "4  2280627634180      Record Invoice Receipt  4507000266         Packaging   \n",
       "\n",
       "  case_product_specific  event_value_EUR event_resource lifecycle:transition  \\\n",
       "0                Labels            134.0       user_054                start   \n",
       "1                Labels            134.0       user_029                start   \n",
       "2                Labels            134.0       user_055                start   \n",
       "3                Labels            134.0           NONE                start   \n",
       "4                Labels            134.0       user_012                start   \n",
       "\n",
       "             time:timestamp    case_vendor case_PR_NPR case:concept:name  \n",
       "0 2018-02-01 08:53:00+00:00  vendorID_0103          PR  4507000266_00010  \n",
       "1 2018-02-01 10:04:00+00:00  vendorID_0103          PR  4507000266_00010  \n",
       "2 2018-03-01 09:20:00+00:00  vendorID_0103          PR  4507000266_00010  \n",
       "3 2018-03-01 22:59:00+00:00  vendorID_0103          PR  4507000266_00010  \n",
       "4 2018-04-01 13:15:00+00:00  vendorID_0103          PR  4507000266_00010  "
      ]
     },
     "execution_count": 48,
     "metadata": {},
     "output_type": "execute_result"
    }
   ],
   "source": [
    "complete_cases.head()"
   ]
  },
  {
   "cell_type": "code",
   "execution_count": 49,
   "id": "eb01094e-0929-4e9e-89a9-9ec5930ccc62",
   "metadata": {},
   "outputs": [],
   "source": [
    "complete_cases.columns=[\"event_id\", \"event_name\", \"case_PO_id\", \"case_product_type\", \"case_product_specific\", \"event_value_EUR\", \"event_resource\", \"remove\", \"event_timestamp\", \"case_vendor\", \"case_PR_NPR\", \"case_id\"]"
   ]
  },
  {
   "cell_type": "code",
   "execution_count": 50,
   "id": "acdababd-f787-45ca-92ce-355d47c69488",
   "metadata": {},
   "outputs": [],
   "source": [
    "complete_cases = complete_cases[[\"case_id\", \"case_PO_id\", \"event_id\", \"event_name\", \"event_timestamp\", \"event_resource\", \"event_value_EUR\", \n",
    "                       \"case_vendor\", \"case_PR_NPR\", \"case_product_type\", \"case_product_specific\"]]"
   ]
  },
  {
   "cell_type": "code",
   "execution_count": 51,
   "id": "2f5b121a-dfd6-4802-bf52-2a6983e01259",
   "metadata": {},
   "outputs": [
    {
     "data": {
      "text/plain": [
       "case_id                   29941\n",
       "case_PO_id                 8919\n",
       "event_id                 155209\n",
       "event_name                   26\n",
       "event_timestamp           28836\n",
       "event_resource              302\n",
       "event_value_EUR            6069\n",
       "case_vendor                 853\n",
       "case_PR_NPR                   3\n",
       "case_product_type            16\n",
       "case_product_specific        98\n",
       "dtype: int64"
      ]
     },
     "execution_count": 51,
     "metadata": {},
     "output_type": "execute_result"
    }
   ],
   "source": [
    "complete_cases.nunique()"
   ]
  },
  {
   "cell_type": "code",
   "execution_count": 52,
   "id": "c1fbb255-8e6b-4a2d-b8ca-a286f01f0341",
   "metadata": {},
   "outputs": [
    {
     "data": {
      "text/plain": [
       "array(['Create Purchase Order Item'], dtype=object)"
      ]
     },
     "execution_count": 52,
     "metadata": {},
     "output_type": "execute_result"
    }
   ],
   "source": [
    "complete_cases.groupby(\"case_id\").nth(0)[\"event_name\"].unique()"
   ]
  },
  {
   "cell_type": "code",
   "execution_count": 53,
   "id": "b0406ff9-9900-4df2-ba3d-fe2574a98b9e",
   "metadata": {},
   "outputs": [
    {
     "data": {
      "text/plain": [
       "array(['Clear Invoice', 'Delete Purchase Order Item'], dtype=object)"
      ]
     },
     "execution_count": 53,
     "metadata": {},
     "output_type": "execute_result"
    }
   ],
   "source": [
    "complete_cases.groupby(\"case_id\").nth(-1)[\"event_name\"].unique()"
   ]
  },
  {
   "cell_type": "raw",
   "id": "8c7928a3-2b48-4793-8fd8-fd56e8e2f0c9",
   "metadata": {},
   "source": [
    "complete_cases.to_csv(\"event_logs/filtered_event_log_complete.csv\", index=False, sep=\";\", encoding=\"utf-8\")"
   ]
  },
  {
   "cell_type": "markdown",
   "id": "c335f6f6-0aa3-4eab-9289-2bf71fe349b1",
   "metadata": {},
   "source": [
    "---\n",
    "Creating a log containing only cases that finished on \"clear invoice\" (not delete purchase order item):"
   ]
  },
  {
   "cell_type": "code",
   "execution_count": 54,
   "id": "54f7e448-8ebb-437f-8d3e-2918b5041d90",
   "metadata": {},
   "outputs": [
    {
     "data": {
      "application/vnd.jupyter.widget-view+json": {
       "model_id": "bad0e9ef9ace4cb0bf28a4384269ff8d",
       "version_major": 2,
       "version_minor": 0
      },
      "text/plain": [
       "parsing log, completed traces ::   0%|          | 0/25877 [00:00<?, ?it/s]"
      ]
     },
     "metadata": {},
     "output_type": "display_data"
    }
   ],
   "source": [
    "log = pm4py.read_xes('event_logs/filtered_event_log_complete_clear_invoice.xes')\n",
    "complete_cases_clear_invoice = pm4py.convert_to_dataframe(log)"
   ]
  },
  {
   "cell_type": "code",
   "execution_count": 55,
   "id": "2a60c6d0-6299-4444-a24b-3f3364df02f8",
   "metadata": {},
   "outputs": [],
   "source": [
    "complete_cases_clear_invoice.columns=[\"event_id\", \"event_name\", \"case_PO_id\", \"case_product_type\", \"case_product_specific\", \"event_value_EUR\", \"event_resource\", \"remove\", \"event_timestamp\", \"case_vendor\", \"case_PR_NPR\", \"case_id\"]"
   ]
  },
  {
   "cell_type": "code",
   "execution_count": 56,
   "id": "bd009804-e893-4f1c-8b8f-eb010fb1c55d",
   "metadata": {},
   "outputs": [],
   "source": [
    "complete_cases_clear_invoice = complete_cases_clear_invoice[[\"case_id\", \"case_PO_id\", \"event_id\", \"event_name\", \"event_timestamp\", \"event_resource\", \"event_value_EUR\", \n",
    "                       \"case_vendor\", \"case_PR_NPR\", \"case_product_type\", \"case_product_specific\"]]"
   ]
  },
  {
   "cell_type": "code",
   "execution_count": 57,
   "id": "78b5e303-f30a-4cd4-aba3-48892a540746",
   "metadata": {},
   "outputs": [
    {
     "data": {
      "text/plain": [
       "case_id                   25877\n",
       "case_PO_id                 7447\n",
       "event_id                 146273\n",
       "event_name                   26\n",
       "event_timestamp           25992\n",
       "event_resource              286\n",
       "event_value_EUR            5485\n",
       "case_vendor                 783\n",
       "case_PR_NPR                   3\n",
       "case_product_type            16\n",
       "case_product_specific        96\n",
       "dtype: int64"
      ]
     },
     "execution_count": 57,
     "metadata": {},
     "output_type": "execute_result"
    }
   ],
   "source": [
    "complete_cases_clear_invoice.nunique()"
   ]
  },
  {
   "cell_type": "code",
   "execution_count": 58,
   "id": "dd1f1cb2-1400-43be-bd22-35d6583c1c56",
   "metadata": {},
   "outputs": [
    {
     "data": {
      "text/plain": [
       "array(['Clear Invoice'], dtype=object)"
      ]
     },
     "execution_count": 58,
     "metadata": {},
     "output_type": "execute_result"
    }
   ],
   "source": [
    "complete_cases_clear_invoice.groupby(\"case_id\").nth(-1)[\"event_name\"].unique()"
   ]
  },
  {
   "cell_type": "raw",
   "id": "efba1318-dbd2-40fe-9b97-46fa39c89c77",
   "metadata": {},
   "source": [
    "complete_cases_clear_invoice.to_csv(\"filtered_event_log_complete_clear_invoice.csv\", index=False, sep=\";\", encoding=\"utf-8\")"
   ]
  }
 ],
 "metadata": {
  "kernelspec": {
   "display_name": "Python 3 (ipykernel)",
   "language": "python",
   "name": "python3"
  },
  "language_info": {
   "codemirror_mode": {
    "name": "ipython",
    "version": 3
   },
   "file_extension": ".py",
   "mimetype": "text/x-python",
   "name": "python",
   "nbconvert_exporter": "python",
   "pygments_lexer": "ipython3",
   "version": "3.9.12"
  }
 },
 "nbformat": 4,
 "nbformat_minor": 5
}
